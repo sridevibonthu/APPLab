{
  "nbformat": 4,
  "nbformat_minor": 0,
  "metadata": {
    "colab": {
      "provenance": [],
      "authorship_tag": "ABX9TyPdrmLNabjj6WVss7J/5adu",
      "include_colab_link": true
    },
    "kernelspec": {
      "name": "python3",
      "display_name": "Python 3"
    },
    "language_info": {
      "name": "python"
    }
  },
  "cells": [
    {
      "cell_type": "markdown",
      "metadata": {
        "id": "view-in-github",
        "colab_type": "text"
      },
      "source": [
        "<a href=\"https://colab.research.google.com/github/sridevibonthu/APPLab/blob/main/firstnotebook.ipynb\" target=\"_parent\"><img src=\"https://colab.research.google.com/assets/colab-badge.svg\" alt=\"Open In Colab\"/></a>"
      ]
    },
    {
      "cell_type": "markdown",
      "source": [
        "#Introduction\n",
        "This is my first notebook"
      ],
      "metadata": {
        "id": "vUa4JC6-rGIG"
      }
    },
    {
      "cell_type": "code",
      "execution_count": 1,
      "metadata": {
        "colab": {
          "base_uri": "https://localhost:8080/"
        },
        "id": "yk0AzYfqqJwo",
        "outputId": "f09291ba-6aa6-4449-c0cc-6f42b7bd5969"
      },
      "outputs": [
        {
          "output_type": "stream",
          "name": "stdout",
          "text": [
            "Sairam\n"
          ]
        }
      ],
      "source": [
        "print(\"Sairam\")"
      ]
    },
    {
      "cell_type": "markdown",
      "source": [
        "##abc"
      ],
      "metadata": {
        "id": "iLi4aKgWrc6W"
      }
    },
    {
      "cell_type": "code",
      "source": [
        "def f1(a,b):\n",
        "  return a+b"
      ],
      "metadata": {
        "id": "WQkZqnQ-qgz_"
      },
      "execution_count": 2,
      "outputs": []
    },
    {
      "cell_type": "code",
      "source": [
        "f1(3,4)"
      ],
      "metadata": {
        "colab": {
          "base_uri": "https://localhost:8080/"
        },
        "id": "vBBxflRhqpDF",
        "outputId": "e011a910-fcaa-4dbf-da26-a4e53db23564"
      },
      "execution_count": 3,
      "outputs": [
        {
          "output_type": "execute_result",
          "data": {
            "text/plain": [
              "7"
            ]
          },
          "metadata": {},
          "execution_count": 3
        }
      ]
    },
    {
      "cell_type": "code",
      "source": [
        "f1(8,9)"
      ],
      "metadata": {
        "colab": {
          "base_uri": "https://localhost:8080/"
        },
        "id": "lvnJ5mQPqsI5",
        "outputId": "2186658f-1314-48fd-9c88-3f76b8887c2c"
      },
      "execution_count": 4,
      "outputs": [
        {
          "output_type": "execute_result",
          "data": {
            "text/plain": [
              "17"
            ]
          },
          "metadata": {},
          "execution_count": 4
        }
      ]
    },
    {
      "cell_type": "markdown",
      "source": [
        "#Functions"
      ],
      "metadata": {
        "id": "eeXtzXnprTw5"
      }
    },
    {
      "cell_type": "code",
      "source": [
        "len(\"hello\")"
      ],
      "metadata": {
        "colab": {
          "base_uri": "https://localhost:8080/"
        },
        "id": "J4szE3irquE3",
        "outputId": "308dd742-fc54-4685-b878-7255c0b01853"
      },
      "execution_count": 5,
      "outputs": [
        {
          "output_type": "execute_result",
          "data": {
            "text/plain": [
              "5"
            ]
          },
          "metadata": {},
          "execution_count": 5
        }
      ]
    },
    {
      "cell_type": "code",
      "source": [],
      "metadata": {
        "id": "3w6D-68brXtu"
      },
      "execution_count": null,
      "outputs": []
    }
  ]
}